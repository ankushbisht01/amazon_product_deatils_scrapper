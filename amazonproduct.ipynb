{
 "cells": [
  {
   "cell_type": "code",
   "execution_count": 28,
   "id": "a345d0a9",
   "metadata": {},
   "outputs": [],
   "source": [
    "import requests\n",
    "from bs4 import BeautifulSoup as bs\n",
    "import lxml\n",
    "from selenium import webdriver\n",
    "from selenium.webdriver.chrome.options import Options\n",
    "import time\n",
    "import pandas as pd\n",
    "import random\n",
    "from decouple import config"
   ]
  },
  {
   "cell_type": "markdown",
   "id": "d3f2e2f8",
   "metadata": {},
   "source": [
    "## Getting random User agents"
   ]
  },
  {
   "cell_type": "code",
   "execution_count": 11,
   "id": "eccc62fa",
   "metadata": {},
   "outputs": [],
   "source": [
    "with open('user_agents.txt','r') as f:\n",
    "    user_agents = f.readlines()\n",
    "user_agent = str(random.choice(user_agents)).strip()\n"
   ]
  },
  {
   "cell_type": "markdown",
   "id": "0dbf5f51",
   "metadata": {},
   "source": [
    "## Getting links of each product"
   ]
  },
  {
   "cell_type": "code",
   "execution_count": 12,
   "id": "f1b26ccb",
   "metadata": {},
   "outputs": [
    {
     "name": "stdout",
     "output_type": "stream",
     "text": [
      "enter the keywordlaptops\n",
      "enter the number of pages you want to scrape3\n"
     ]
    }
   ],
   "source": [
    "keyword = input('enter the keyword')\n",
    "page = int(input('enter the number of pages you want to scrape'))\n",
    "links = []\n",
    "for page_no in range(1,int(page)):\n",
    "    headers = {'user-agent':user_agent}\n",
    "    url =f\"https://www.amazon.in/s?k={keyword}&page={page_no}&qid=1638731354&ref=sr_pg_{page_no}\"\n",
    "    response = requests.get(url,headers=headers).content\n",
    "    soup = bs(response,'lxml')\n",
    "    all_product_soup = soup.findAll('a',attrs={\"class\":\"a-link-normal a-text-normal\"})\n",
    "    for x in all_product_soup:\n",
    "        links.append(x.attrs['href'] )"
   ]
  },
  {
   "cell_type": "code",
   "execution_count": 13,
   "id": "ee3627ff",
   "metadata": {},
   "outputs": [
    {
     "data": {
      "text/plain": [
       "35"
      ]
     },
     "execution_count": 13,
     "metadata": {},
     "output_type": "execute_result"
    }
   ],
   "source": [
    "len(links)"
   ]
  },
  {
   "cell_type": "markdown",
   "id": "917a29c9",
   "metadata": {},
   "source": [
    "## Getting Product Details"
   ]
  },
  {
   "cell_type": "code",
   "execution_count": 14,
   "id": "f7bb84af",
   "metadata": {},
   "outputs": [
    {
     "name": "stderr",
     "output_type": "stream",
     "text": [
      "C:\\Users\\Anchal\\AppData\\Local\\Temp/ipykernel_68056/1554890782.py:10: DeprecationWarning: executable_path has been deprecated, please pass in a Service object\n",
      "  driver = webdriver.Chrome(path,options=options)\n"
     ]
    }
   ],
   "source": [
    "#use of headless selenium to get the dynamic content from amazon product page\n",
    "data =[]\n",
    "for product_link in links:\n",
    "    path = config('PATH')\n",
    "    options = Options()\n",
    "    options.add_argument('--headless')\n",
    "    options.add_argument('--disable-gpu')\n",
    "    options.add_argument('--no-sandbox')\n",
    "    options.add_argument('--disable-dev-shm-usage')\n",
    "    driver = webdriver.Chrome(path,options=options)\n",
    "    driver.get(\"https://www.amazon.in\"+product_link)\n",
    "    time.sleep(1)\n",
    "    source_code = driver.page_source\n",
    "    driver.quit()\n",
    "    product_soup =  bs(source_code,'lxml')\n",
    "    product_details={}\n",
    "    for details in product_soup.find('table',attrs={'id':'productDetails_techSpec_section_1'}).tbody.findAll('tr'):\n",
    "        product_details[details.th.text.rstrip()]=details.td.text.lstrip()\n",
    "\n",
    "    data.append(product_details)\n",
    "    \n",
    "    "
   ]
  },
  {
   "cell_type": "code",
   "execution_count": 15,
   "id": "22142610",
   "metadata": {},
   "outputs": [],
   "source": [
    "df1=pd.DataFrame(data)"
   ]
  },
  {
   "cell_type": "code",
   "execution_count": 16,
   "id": "b19bd268",
   "metadata": {},
   "outputs": [
    {
     "data": {
      "text/html": [
       "<div>\n",
       "<style scoped>\n",
       "    .dataframe tbody tr th:only-of-type {\n",
       "        vertical-align: middle;\n",
       "    }\n",
       "\n",
       "    .dataframe tbody tr th {\n",
       "        vertical-align: top;\n",
       "    }\n",
       "\n",
       "    .dataframe thead th {\n",
       "        text-align: right;\n",
       "    }\n",
       "</style>\n",
       "<table border=\"1\" class=\"dataframe\">\n",
       "  <thead>\n",
       "    <tr style=\"text-align: right;\">\n",
       "      <th></th>\n",
       "      <th>Brand</th>\n",
       "      <th>Manufacturer</th>\n",
       "      <th>Series</th>\n",
       "      <th>Colour</th>\n",
       "      <th>Form Factor</th>\n",
       "      <th>Item Height</th>\n",
       "      <th>Item Width</th>\n",
       "      <th>Standing screen display size</th>\n",
       "      <th>Resolution</th>\n",
       "      <th>Product Dimensions</th>\n",
       "      <th>...</th>\n",
       "      <th>Screen Resolution</th>\n",
       "      <th>Voltage</th>\n",
       "      <th>Front Webcam Resolution</th>\n",
       "      <th>Hard Disk Rotational Speed</th>\n",
       "      <th>Aspect Ratio</th>\n",
       "      <th>Microphone Form Factor</th>\n",
       "      <th>Microphone Technology</th>\n",
       "      <th>Processor Socket</th>\n",
       "      <th>Number of Lithium Metal Cells</th>\n",
       "      <th>Battery Charge Cycles</th>\n",
       "    </tr>\n",
       "  </thead>\n",
       "  <tbody>\n",
       "    <tr>\n",
       "      <th>30</th>\n",
       "      <td>‎MSI</td>\n",
       "      <td>‎MSI COMPUTER</td>\n",
       "      <td>‎GF75 Thin 10SC-095IN</td>\n",
       "      <td>‎Black</td>\n",
       "      <td>‎Laptop</td>\n",
       "      <td>‎22 Millimeters</td>\n",
       "      <td>‎26 Centimeters</td>\n",
       "      <td>‎44 Centimetres</td>\n",
       "      <td>‎1920 x 1080 Pixels</td>\n",
       "      <td>‎39.7 x 26 x 2.2 cm; 2.2 Kilograms</td>\n",
       "      <td>...</td>\n",
       "      <td>NaN</td>\n",
       "      <td>NaN</td>\n",
       "      <td>NaN</td>\n",
       "      <td>NaN</td>\n",
       "      <td>NaN</td>\n",
       "      <td>NaN</td>\n",
       "      <td>NaN</td>\n",
       "      <td>NaN</td>\n",
       "      <td>NaN</td>\n",
       "      <td>NaN</td>\n",
       "    </tr>\n",
       "    <tr>\n",
       "      <th>31</th>\n",
       "      <td>‎AVITA</td>\n",
       "      <td>‎Alco Holdings Limited</td>\n",
       "      <td>‎AVITA Essential</td>\n",
       "      <td>‎Gray</td>\n",
       "      <td>‎Laptop</td>\n",
       "      <td>‎20 Millimeters</td>\n",
       "      <td>‎32.1 Centimeters</td>\n",
       "      <td>‎14 Inches</td>\n",
       "      <td>‎1920 x 1080</td>\n",
       "      <td>‎22.5 x 32.1 x 2 cm; 1.37 Kilograms</td>\n",
       "      <td>...</td>\n",
       "      <td>NaN</td>\n",
       "      <td>NaN</td>\n",
       "      <td>NaN</td>\n",
       "      <td>NaN</td>\n",
       "      <td>NaN</td>\n",
       "      <td>NaN</td>\n",
       "      <td>NaN</td>\n",
       "      <td>NaN</td>\n",
       "      <td>NaN</td>\n",
       "      <td>NaN</td>\n",
       "    </tr>\n",
       "    <tr>\n",
       "      <th>32</th>\n",
       "      <td>‎Lenovo</td>\n",
       "      <td>‎Lenovo</td>\n",
       "      <td>‎IdeaPad 1 11IGL05</td>\n",
       "      <td>‎Platinum Grey</td>\n",
       "      <td>‎Thin &amp; Light</td>\n",
       "      <td>‎17 Millimeters</td>\n",
       "      <td>‎20 Centimeters</td>\n",
       "      <td>‎11.6 Inches</td>\n",
       "      <td>‎1366 x 768 Pixels</td>\n",
       "      <td>‎28.8 x 20 x 1.7 cm; 1.2 Kilograms</td>\n",
       "      <td>...</td>\n",
       "      <td>NaN</td>\n",
       "      <td>NaN</td>\n",
       "      <td>NaN</td>\n",
       "      <td>NaN</td>\n",
       "      <td>NaN</td>\n",
       "      <td>NaN</td>\n",
       "      <td>NaN</td>\n",
       "      <td>NaN</td>\n",
       "      <td>NaN</td>\n",
       "      <td>NaN</td>\n",
       "    </tr>\n",
       "    <tr>\n",
       "      <th>33</th>\n",
       "      <td>‎Dell</td>\n",
       "      <td>‎Dell India Pvt Ltd</td>\n",
       "      <td>‎VOSTRO 3401</td>\n",
       "      <td>‎Black</td>\n",
       "      <td>‎Laptop</td>\n",
       "      <td>‎20 Millimeters</td>\n",
       "      <td>‎24 Centimeters</td>\n",
       "      <td>‎14</td>\n",
       "      <td>‎1920x1080</td>\n",
       "      <td>‎32.8 x 24 x 2 cm; 1.64 Kilograms</td>\n",
       "      <td>...</td>\n",
       "      <td>NaN</td>\n",
       "      <td>NaN</td>\n",
       "      <td>NaN</td>\n",
       "      <td>NaN</td>\n",
       "      <td>NaN</td>\n",
       "      <td>NaN</td>\n",
       "      <td>NaN</td>\n",
       "      <td>NaN</td>\n",
       "      <td>NaN</td>\n",
       "      <td>‎10 Hours</td>\n",
       "    </tr>\n",
       "    <tr>\n",
       "      <th>34</th>\n",
       "      <td>‎Dell</td>\n",
       "      <td>‎Dell Computers</td>\n",
       "      <td>NaN</td>\n",
       "      <td>‎Grey</td>\n",
       "      <td>‎Notebook</td>\n",
       "      <td>‎2 Inches</td>\n",
       "      <td>‎24 Inches</td>\n",
       "      <td>‎14 Inches</td>\n",
       "      <td>‎HD (1366 X 768) Pixels</td>\n",
       "      <td>‎83.82 x 60.96 x 5.08 cm; 1.75 Kilograms</td>\n",
       "      <td>...</td>\n",
       "      <td>NaN</td>\n",
       "      <td>NaN</td>\n",
       "      <td>NaN</td>\n",
       "      <td>NaN</td>\n",
       "      <td>NaN</td>\n",
       "      <td>NaN</td>\n",
       "      <td>NaN</td>\n",
       "      <td>NaN</td>\n",
       "      <td>NaN</td>\n",
       "      <td>NaN</td>\n",
       "    </tr>\n",
       "  </tbody>\n",
       "</table>\n",
       "<p>5 rows × 93 columns</p>\n",
       "</div>"
      ],
      "text/plain": [
       "       Brand             Manufacturer                  Series  \\\n",
       "30     ‎MSI            ‎MSI COMPUTER   ‎GF75 Thin 10SC-095IN    \n",
       "31   ‎AVITA   ‎Alco Holdings Limited        ‎AVITA Essential    \n",
       "32  ‎Lenovo                  ‎Lenovo      ‎IdeaPad 1 11IGL05    \n",
       "33    ‎Dell      ‎Dell India Pvt Ltd            ‎VOSTRO 3401    \n",
       "34    ‎Dell          ‎Dell Computers                      NaN   \n",
       "\n",
       "             Colour     Form Factor       Item Height          Item Width  \\\n",
       "30          ‎Black         ‎Laptop   ‎22 Millimeters     ‎26 Centimeters    \n",
       "31           ‎Gray         ‎Laptop   ‎20 Millimeters   ‎32.1 Centimeters    \n",
       "32  ‎Platinum Grey   ‎Thin & Light   ‎17 Millimeters     ‎20 Centimeters    \n",
       "33          ‎Black         ‎Laptop   ‎20 Millimeters     ‎24 Centimeters    \n",
       "34           ‎Grey       ‎Notebook         ‎2 Inches          ‎24 Inches    \n",
       "\n",
       "    Standing screen display size                Resolution  \\\n",
       "30              ‎44 Centimetres       ‎1920 x 1080 Pixels    \n",
       "31                   ‎14 Inches              ‎1920 x 1080    \n",
       "32                 ‎11.6 Inches        ‎1366 x 768 Pixels    \n",
       "33                          ‎14                ‎1920x1080    \n",
       "34                   ‎14 Inches   ‎HD (1366 X 768) Pixels    \n",
       "\n",
       "                           Product Dimensions  ...  Screen Resolution  \\\n",
       "30        ‎39.7 x 26 x 2.2 cm; 2.2 Kilograms   ...                NaN   \n",
       "31       ‎22.5 x 32.1 x 2 cm; 1.37 Kilograms   ...                NaN   \n",
       "32        ‎28.8 x 20 x 1.7 cm; 1.2 Kilograms   ...                NaN   \n",
       "33         ‎32.8 x 24 x 2 cm; 1.64 Kilograms   ...                NaN   \n",
       "34  ‎83.82 x 60.96 x 5.08 cm; 1.75 Kilograms   ...                NaN   \n",
       "\n",
       "    Voltage  Front Webcam Resolution  Hard Disk Rotational Speed  \\\n",
       "30      NaN                      NaN                         NaN   \n",
       "31      NaN                      NaN                         NaN   \n",
       "32      NaN                      NaN                         NaN   \n",
       "33      NaN                      NaN                         NaN   \n",
       "34      NaN                      NaN                         NaN   \n",
       "\n",
       "    Aspect Ratio  Microphone Form Factor  Microphone Technology  \\\n",
       "30           NaN                     NaN                    NaN   \n",
       "31           NaN                     NaN                    NaN   \n",
       "32           NaN                     NaN                    NaN   \n",
       "33           NaN                     NaN                    NaN   \n",
       "34           NaN                     NaN                    NaN   \n",
       "\n",
       "    Processor Socket  Number of Lithium Metal Cells  Battery Charge Cycles  \n",
       "30               NaN                            NaN                    NaN  \n",
       "31               NaN                            NaN                    NaN  \n",
       "32               NaN                            NaN                    NaN  \n",
       "33               NaN                            NaN             ‎10 Hours   \n",
       "34               NaN                            NaN                    NaN  \n",
       "\n",
       "[5 rows x 93 columns]"
      ]
     },
     "execution_count": 16,
     "metadata": {},
     "output_type": "execute_result"
    }
   ],
   "source": [
    "df1.tail()"
   ]
  },
  {
   "cell_type": "code",
   "execution_count": 18,
   "id": "55c962d2",
   "metadata": {},
   "outputs": [
    {
     "data": {
      "text/plain": [
       " Brand                             0\n",
       " Manufacturer                      0\n",
       " Series                           10\n",
       " Colour                           10\n",
       " Form Factor                       0\n",
       "                                  ..\n",
       " Microphone Form Factor           34\n",
       " Microphone Technology            34\n",
       " Processor Socket                 34\n",
       " Number of Lithium Metal Cells    34\n",
       " Battery Charge Cycles            34\n",
       "Length: 93, dtype: int64"
      ]
     },
     "execution_count": 18,
     "metadata": {},
     "output_type": "execute_result"
    }
   ],
   "source": [
    "df1.isnull().sum()"
   ]
  },
  {
   "cell_type": "code",
   "execution_count": 22,
   "id": "1949992e",
   "metadata": {},
   "outputs": [],
   "source": [
    "df1.to_csv('amazon_data.csv',index=False)"
   ]
  },
  {
   "cell_type": "code",
   "execution_count": null,
   "id": "bd6add91",
   "metadata": {},
   "outputs": [],
   "source": []
  },
  {
   "cell_type": "code",
   "execution_count": null,
   "id": "40cd751e",
   "metadata": {},
   "outputs": [],
   "source": []
  }
 ],
 "metadata": {
  "kernelspec": {
   "display_name": "Python 3 (ipykernel)",
   "language": "python",
   "name": "python3"
  },
  "language_info": {
   "codemirror_mode": {
    "name": "ipython",
    "version": 3
   },
   "file_extension": ".py",
   "mimetype": "text/x-python",
   "name": "python",
   "nbconvert_exporter": "python",
   "pygments_lexer": "ipython3",
   "version": "3.10.0"
  }
 },
 "nbformat": 4,
 "nbformat_minor": 5
}
